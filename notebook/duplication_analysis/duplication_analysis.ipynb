{
 "cells": [
  {
   "cell_type": "code",
   "execution_count": 1,
   "metadata": {},
   "outputs": [],
   "source": [
    "import sys\n",
    "import os\n",
    "import json\n",
    "import regex as re\n",
    "from tqdm import tqdm"
   ]
  },
  {
   "cell_type": "code",
   "execution_count": 2,
   "metadata": {},
   "outputs": [],
   "source": [
    "data = []\n",
    "with open('mbpp_experimental_800.json', 'r', encoding='utf-8') as f:\n",
    "    for point in json.load(f):\n",
    "        instruction = re.split(\"(?:\\n|\\r\\n)\", point['instruction'])[0].strip()\n",
    "        if instruction.lower().endswith(\"your code should pass these tests:\"):\n",
    "            instruction = instruction[:-len(\"your code should pass these tests:\")].strip()\n",
    "            data.append({\n",
    "                'id': point['id'],\n",
    "                'instruction': instruction\n",
    "            })"
   ]
  },
  {
   "cell_type": "code",
   "execution_count": 3,
   "metadata": {},
   "outputs": [
    {
     "data": {
      "text/plain": [
       "724"
      ]
     },
     "execution_count": 3,
     "metadata": {},
     "output_type": "execute_result"
    }
   ],
   "source": [
    "len(data)"
   ]
  },
  {
   "cell_type": "code",
   "execution_count": 4,
   "metadata": {},
   "outputs": [],
   "source": [
    "non_duplicated = 0\n",
    "total = 0\n",
    "y = []\n",
    "x = []\n",
    "l = []"
   ]
  },
  {
   "cell_type": "code",
   "execution_count": 5,
   "metadata": {},
   "outputs": [],
   "source": [
    "from rouge_score import rouge_scorer\n",
    "\n",
    "scorer = rouge_scorer.RougeScorer([\"rougeL\"], use_stemmer=False)\n",
    "\n",
    "all_instructions = [\n",
    "    \"Write a function to find the minimum cost path to reach (m, n) from (0, 0) for the given cost matrix cost[][] and a position (m, n) in cost[][].\",\n",
    "    \"Write a function to find the similar elements from the given two tuple lists.\",\n",
    "    \"Write a python function to identify non-prime numbers.\",\n",
    "    \"Write a function to find the largest integers from a given list of numbers using heap queue algorithm.\",\n",
    "    \"Write a function to find the number of ways to fill it with 2 x 1 dominoes for the given 3 x n board.\",\n",
    "    \"Write a python function to check whether the two numbers differ at one bit position only or not.\",\n",
    "    \"Write a function to find all words which are at least 4 characters long in a string by using regex.\",\n",
    "    \"Write a function to find squares of individual elements in a list using lambda function.\",\n",
    "    \"Write a python function to find the minimum number of rotations required to get the same string.\",\n",
    "    \"Write a function to get the n smallest items from a dataset.\"\n",
    "]\n",
    "all_instruction_tokens = [scorer._tokenizer.tokenize(inst) for inst in all_instructions]"
   ]
  },
  {
   "cell_type": "code",
   "execution_count": 6,
   "metadata": {},
   "outputs": [
    {
     "name": "stderr",
     "output_type": "stream",
     "text": [
      "100%|██████████| 724/724 [00:42<00:00, 17.02it/s]\n"
     ]
    }
   ],
   "source": [
    "from functools import partial\n",
    "from concurrent.futures import ProcessPoolExecutor\n",
    "import numpy as np\n",
    "\n",
    "discarded = []\n",
    "with ProcessPoolExecutor() as executor:\n",
    "    for point in tqdm(data):\n",
    "        instruction = point['instruction']\n",
    "        new_instruction_tokens = scorer._tokenizer.tokenize(instruction)\n",
    "        rouge_scores = []\n",
    "        for score in executor.map(\n",
    "            partial(rouge_scorer._score_lcs, new_instruction_tokens),\n",
    "            all_instruction_tokens\n",
    "        ):\n",
    "            rouge_scores.append(score.fmeasure)\n",
    "        if max(rouge_scores) < float(2 / 3):\n",
    "            non_duplicated += 1\n",
    "            all_instructions.append(instruction)\n",
    "            all_instruction_tokens.append(new_instruction_tokens)\n",
    "        else:\n",
    "            most_similar_instructions = {\n",
    "                all_instructions[i]: rouge_scores[i] for i in np.argsort(rouge_scores)[-5:][::-1]\n",
    "            }\n",
    "            discarded.append({\n",
    "                'discarded_instruction': instruction,\n",
    "                'most_similar_instructions': most_similar_instructions\n",
    "            })\n",
    "        total += 1\n",
    "        y.append(non_duplicated)\n",
    "        x.append(total)\n",
    "        l.append(len(instruction))"
   ]
  },
  {
   "cell_type": "code",
   "execution_count": 7,
   "metadata": {},
   "outputs": [
    {
     "name": "stdout",
     "output_type": "stream",
     "text": [
      "724 406\n"
     ]
    }
   ],
   "source": [
    "print(total, non_duplicated)"
   ]
  },
  {
   "cell_type": "code",
   "execution_count": 8,
   "metadata": {},
   "outputs": [
    {
     "data": {
      "text/plain": [
       "Text(0, 0.5, 'non-duplicated')"
      ]
     },
     "execution_count": 8,
     "metadata": {},
     "output_type": "execute_result"
    },
    {
     "data": {
      "image/png": "[encoded data removed]",
      "text/plain": [
       "<Figure size 640x480 with 1 Axes>"
      ]
     },
     "metadata": {},
     "output_type": "display_data"
    }
   ],
   "source": [
    "import matplotlib.pyplot as plt\n",
    "import seaborn as sns\n",
    "\n",
    "p = sns.lineplot(x=x, y=y)\n",
    "p.set_xlabel('total')\n",
    "p.set_ylabel('non-duplicated')"
   ]
  },
  {
   "cell_type": "code",
   "execution_count": null,
   "metadata": {},
   "outputs": [],
   "source": []
  }
 ],
 "metadata": {
  "kernelspec": {
   "display_name": "llm",
   "language": "python",
   "name": "python3"
  },
  "language_info": {
   "codemirror_mode": {
    "name": "ipython",
    "version": 3
   },
   "file_extension": ".py",
   "mimetype": "text/x-python",
   "name": "python",
   "nbconvert_exporter": "python",
   "pygments_lexer": "ipython3",
   "version": "3.10.10"
  },
  "orig_nbformat": 4
 },
 "nbformat": 4,
 "nbformat_minor": 2
}
