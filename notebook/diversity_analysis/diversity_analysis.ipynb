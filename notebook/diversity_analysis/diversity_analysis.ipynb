{
 "cells": [
  {
   "cell_type": "code",
   "execution_count": 1,
   "metadata": {},
   "outputs": [],
   "source": [
    "import sys\n",
    "import os\n",
    "import json\n",
    "import regex as re\n",
    "import numpy as np"
   ]
  },
  {
   "cell_type": "code",
   "execution_count": 2,
   "metadata": {},
   "outputs": [],
   "source": [
    "def random_instructions(filename, size):\n",
    "    with open(filename) as f:\n",
    "        if filename.endswith('jsonl'):\n",
    "            data = []\n",
    "            for line in f:\n",
    "                data.append(json.loads(line.strip()))\n",
    "        else:\n",
    "            data = json.load(f)\n",
    "    \n",
    "    np.random.seed(42)\n",
    "    samples = np.random.choice(data, size=size, replace=False)\n",
    "    instructions = []\n",
    "    for sample in samples:\n",
    "        if 'alpaca' in filename:\n",
    "            instruction = sample['instruction'].split('Your code should pass')[0].strip()\n",
    "        elif 'synthesized' in filename:\n",
    "            instruction = sample['original_instruction']\n",
    "        \n",
    "        instruction_split = re.split('^Write[^,.]+to', instruction)\n",
    "        if len(instruction_split) > 1:\n",
    "            instruction = instruction_split[1].strip()\n",
    "        \n",
    "        instructions.append(instruction)\n",
    "        \n",
    "    return instructions"
   ]
  },
  {
   "cell_type": "code",
   "execution_count": 3,
   "metadata": {},
   "outputs": [],
   "source": [
    "from itertools import combinations\n",
    "\n",
    "def gen_cand_ref(instructions):\n",
    "    cands, refs = zip(*combinations(instructions, 2))\n",
    "    \n",
    "    np.random.seed(42)\n",
    "    indices = np.random.choice(len(cands), size=min(10000, len(cands)), replace=False)\n",
    "    cands = [cands[idx] for idx in indices]\n",
    "    refs = [refs[idx] for idx in indices]\n",
    "    return cands, refs"
   ]
  },
  {
   "cell_type": "code",
   "execution_count": 4,
   "metadata": {},
   "outputs": [
    {
     "name": "stdout",
     "output_type": "stream",
     "text": [
      "\n",
      "===================================BUG REPORT===================================\n",
      "Welcome to bitsandbytes. For bug reports, please run\n",
      "\n",
      "python -m bitsandbytes\n",
      "\n",
      " and submit this information together with your error trace to: https://github.com/TimDettmers/bitsandbytes/issues\n",
      "================================================================================\n",
      "bin /home/wangqianle/miniconda3/envs/llm/lib/python3.10/site-packages/bitsandbytes/libbitsandbytes_cuda117.so\n",
      "CUDA SETUP: CUDA runtime path found: /home/wangqianle/miniconda3/envs/llm/lib/libcudart.so.11.0\n",
      "CUDA SETUP: Highest compute capability among GPUs detected: 8.0\n",
      "CUDA SETUP: Detected CUDA version 117\n",
      "CUDA SETUP: Loading binary /home/wangqianle/miniconda3/envs/llm/lib/python3.10/site-packages/bitsandbytes/libbitsandbytes_cuda117.so...\n"
     ]
    }
   ],
   "source": [
    "import logging\n",
    "import transformers\n",
    "transformers.tokenization_utils.logger.setLevel(logging.ERROR)\n",
    "transformers.configuration_utils.logger.setLevel(logging.ERROR)\n",
    "transformers.modeling_utils.logger.setLevel(logging.ERROR)\n",
    "\n",
    "from bert_score import score\n",
    "\n",
    "def compute_simscore(cands, refs):\n",
    "    P, R, F1 = score(cands, refs, lang='en', verbose=True, rescale_with_baseline=True)\n",
    "    return P, R, F1"
   ]
  },
  {
   "cell_type": "code",
   "execution_count": 5,
   "metadata": {},
   "outputs": [],
   "source": [
    "def F1_score(filename, size=400):\n",
    "    instructions = random_instructions(filename, size=size)\n",
    "    cands, refs = gen_cand_ref(instructions)\n",
    "    P, R, F1 = compute_simscore(cands, refs)\n",
    "    return F1"
   ]
  },
  {
   "cell_type": "code",
   "execution_count": 6,
   "metadata": {},
   "outputs": [],
   "source": [
    "%matplotlib inline\n",
    "import matplotlib.pyplot as plt\n",
    "from matplotlib import rcParams"
   ]
  },
  {
   "cell_type": "code",
   "execution_count": 7,
   "metadata": {},
   "outputs": [
    {
     "name": "stdout",
     "output_type": "stream",
     "text": [
      "calculating scores...\n",
      "computing bert embedding.\n"
     ]
    },
    {
     "data": {
      "application/vnd.jupyter.widget-view+json": {
       "model_id": "2247b3f0d7b14af58b4280ca31dabcf9",
       "version_major": 2,
       "version_minor": 0
      },
      "text/plain": [
       "  0%|          | 0/7 [00:00<?, ?it/s]"
      ]
     },
     "metadata": {},
     "output_type": "display_data"
    },
    {
     "name": "stdout",
     "output_type": "stream",
     "text": [
      "computing greedy matching.\n"
     ]
    },
    {
     "data": {
      "application/vnd.jupyter.widget-view+json": {
       "model_id": "5be81c2208634e1e83471ac61e227956",
       "version_major": 2,
       "version_minor": 0
      },
      "text/plain": [
       "  0%|          | 0/157 [00:00<?, ?it/s]"
      ]
     },
     "metadata": {},
     "output_type": "display_data"
    },
    {
     "name": "stdout",
     "output_type": "stream",
     "text": [
      "done in 2.71 seconds, 3696.14 sentences/sec\n",
      "\n",
      "F1 mean: 0.18211761116981506\n"
     ]
    }
   ],
   "source": [
    "alpaca_F1 = F1_score('../../data/alpaca/mbpp_alpaca_1k.jsonl')\n",
    "print(\"\\nF1 mean:\", alpaca_F1.mean().item())"
   ]
  },
  {
   "cell_type": "code",
   "execution_count": 8,
   "metadata": {},
   "outputs": [
    {
     "name": "stdout",
     "output_type": "stream",
     "text": [
      "calculating scores...\n",
      "computing bert embedding.\n"
     ]
    },
    {
     "data": {
      "application/vnd.jupyter.widget-view+json": {
       "model_id": "d11bf7ce38584294bb2415cb8b41880c",
       "version_major": 2,
       "version_minor": 0
      },
      "text/plain": [
       "  0%|          | 0/7 [00:00<?, ?it/s]"
      ]
     },
     "metadata": {},
     "output_type": "display_data"
    },
    {
     "name": "stdout",
     "output_type": "stream",
     "text": [
      "computing greedy matching.\n"
     ]
    },
    {
     "data": {
      "application/vnd.jupyter.widget-view+json": {
       "model_id": "5dc6233566d949918967f6cb8e17b2d5",
       "version_major": 2,
       "version_minor": 0
      },
      "text/plain": [
       "  0%|          | 0/157 [00:00<?, ?it/s]"
      ]
     },
     "metadata": {},
     "output_type": "display_data"
    },
    {
     "name": "stdout",
     "output_type": "stream",
     "text": [
      "done in 2.91 seconds, 3433.81 sentences/sec\n",
      "\n",
      "F1 mean: 0.029133547097444534\n"
     ]
    }
   ],
   "source": [
    "syn_F1 = F1_score('../../data/ada-instruct/mbpp_synthesized_10k.jsonl')\n",
    "print(\"\\nF1 mean:\", syn_F1.mean().item())"
   ]
  },
  {
   "cell_type": "code",
   "execution_count": 9,
   "metadata": {},
   "outputs": [
    {
     "data": {
      "image/png": "[encoded data removed]",
      "text/plain": [
       "<Figure size 1050x720 with 1 Axes>"
      ]
     },
     "metadata": {},
     "output_type": "display_data"
    }
   ],
   "source": [
    "bins = np.linspace(-0.5, 0.85, 100)\n",
    "fig = plt.figure(figsize=(7.0, 4.8), dpi=150)\n",
    "plt.hist(alpaca_F1, bins, alpha=0.5, label='Self-Instruct', color='#1f77b4')\n",
    "plt.hist(syn_F1, bins, alpha=0.5, label='Ada-Instruct', color='#e67e22')\n",
    "plt.tick_params(labelsize=12)\n",
    "plt.xlabel(\"Similarity (BERTScore)\", fontdict={'size': 15}, labelpad=5)\n",
    "plt.ylabel(\"Count\", fontdict={'size': 15}, labelpad=5)\n",
    "plt.legend(loc='upper right', prop={'size': 15})\n",
    "plt.show()"
   ]
  }
 ],
 "metadata": {
  "kernelspec": {
   "display_name": "llm",
   "language": "python",
   "name": "python3"
  },
  "language_info": {
   "codemirror_mode": {
    "name": "ipython",
    "version": 3
   },
   "file_extension": ".py",
   "mimetype": "text/x-python",
   "name": "python",
   "nbconvert_exporter": "python",
   "pygments_lexer": "ipython3",
   "version": "3.10.10"
  },
  "orig_nbformat": 4
 },
 "nbformat": 4,
 "nbformat_minor": 2
}
